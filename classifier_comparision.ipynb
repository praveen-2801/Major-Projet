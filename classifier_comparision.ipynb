{
 "cells": [
  {
   "cell_type": "code",
   "execution_count": 1,
   "metadata": {
    "execution": {
     "iopub.execute_input": "2022-11-02T06:35:49.621657Z",
     "iopub.status.busy": "2022-11-02T06:35:49.620401Z",
     "iopub.status.idle": "2022-11-02T06:35:49.631404Z",
     "shell.execute_reply": "2022-11-02T06:35:49.630120Z",
     "shell.execute_reply.started": "2022-11-02T06:35:49.621598Z"
    }
   },
   "outputs": [],
   "source": [
    "import numpy as np # linear algebra\n",
    "import pandas as pd # data processing, CSV file I/O (e.g. pd.read_csv)\n",
    "import cv2 \n",
    "import matplotlib.pyplot as plt\n",
    "import os\n",
    "import pickle\n",
    "import random\n",
    "from sklearn.model_selection import train_test_split as tts\n",
    "from sklearn.svm import SVC\n",
    "from sklearn.ensemble import RandomForestClassifier as RFC\n",
    "from sklearn.neighbors import KNeighborsClassifier as KNN\n",
    "from sklearn.tree import DecisionTreeClassifier\n",
    "from sklearn.naive_bayes import GaussianNB\n",
    "from sklearn.metrics import classification_report as cr"
   ]
  },
  {
   "cell_type": "markdown",
   "metadata": {},
   "source": [
    "**TRAINING DATA FEATURES EXTRACTION**"
   ]
  },
  {
   "cell_type": "code",
   "execution_count": 2,
   "metadata": {
    "execution": {
     "iopub.execute_input": "2022-11-02T06:35:49.635279Z",
     "iopub.status.busy": "2022-11-02T06:35:49.634225Z",
     "iopub.status.idle": "2022-11-02T06:35:49.643448Z",
     "shell.execute_reply": "2022-11-02T06:35:49.642011Z",
     "shell.execute_reply.started": "2022-11-02T06:35:49.635194Z"
    }
   },
   "outputs": [],
   "source": [
    "dir = 'chest_xray/train'"
   ]
  },
  {
   "cell_type": "code",
   "execution_count": 3,
   "metadata": {
    "execution": {
     "iopub.execute_input": "2022-11-02T06:35:49.646393Z",
     "iopub.status.busy": "2022-11-02T06:35:49.645614Z",
     "iopub.status.idle": "2022-11-02T06:37:13.476940Z",
     "shell.execute_reply": "2022-11-02T06:37:13.475458Z",
     "shell.execute_reply.started": "2022-11-02T06:35:49.646343Z"
    }
   },
   "outputs": [],
   "source": [
    "categories = ['NORMAL','PNEUMONIA']\n",
    "data = []\n",
    "for c in categories:\n",
    "    path = os.path.join(dir,c)\n",
    "    label = categories.index(c)\n",
    "    for img in os.listdir(path):\n",
    "        imgpath = os.path.join(path,img)\n",
    "        l_img = cv2.imread(imgpath,0)\n",
    "        try:\n",
    "            l_img = cv2.resize(l_img,(50,50))\n",
    "            image = np.array(l_img).flatten()\n",
    "            data.append([img,image,label])\n",
    "        except:\n",
    "            pass\n",
    "im = []\n",
    "for i in range(len(data)):\n",
    "    im.append(data[i][0])"
   ]
  },
  {
   "cell_type": "code",
   "execution_count": 4,
   "metadata": {
    "execution": {
     "iopub.execute_input": "2022-11-02T06:37:13.480258Z",
     "iopub.status.busy": "2022-11-02T06:37:13.479747Z",
     "iopub.status.idle": "2022-11-02T06:37:13.488134Z",
     "shell.execute_reply": "2022-11-02T06:37:13.486631Z",
     "shell.execute_reply.started": "2022-11-02T06:37:13.480187Z"
    }
   },
   "outputs": [],
   "source": [
    "labels = []\n",
    "for i in range(len(data)):\n",
    "    labels.append(data[i][2])"
   ]
  },
  {
   "cell_type": "code",
   "execution_count": 5,
   "metadata": {
    "execution": {
     "iopub.execute_input": "2022-11-02T06:37:13.490299Z",
     "iopub.status.busy": "2022-11-02T06:37:13.489865Z",
     "iopub.status.idle": "2022-11-02T06:37:15.490863Z",
     "shell.execute_reply": "2022-11-02T06:37:15.489617Z",
     "shell.execute_reply.started": "2022-11-02T06:37:13.490253Z"
    }
   },
   "outputs": [],
   "source": [
    "mean_values=[]\n",
    "for i in range(len(data)):\n",
    "    mean = sum(data[i][1])//len(data)\n",
    "    mean_values.append(mean)"
   ]
  },
  {
   "cell_type": "code",
   "execution_count": 6,
   "metadata": {
    "execution": {
     "iopub.execute_input": "2022-11-02T06:37:15.494757Z",
     "iopub.status.busy": "2022-11-02T06:37:15.493435Z",
     "iopub.status.idle": "2022-11-02T06:38:44.879360Z",
     "shell.execute_reply": "2022-11-02T06:38:44.877984Z",
     "shell.execute_reply.started": "2022-11-02T06:37:15.494701Z"
    }
   },
   "outputs": [],
   "source": [
    "import statistics\n",
    "var = []\n",
    "for i in range(len(data)):\n",
    "    mean = sum(data[i][1])//len(data)\n",
    "    v = statistics.variance(data[i][1],xbar = mean)\n",
    "    var.append(v)"
   ]
  },
  {
   "cell_type": "code",
   "execution_count": 28,
   "metadata": {
    "execution": {
     "iopub.execute_input": "2022-11-02T06:38:44.881592Z",
     "iopub.status.busy": "2022-11-02T06:38:44.881018Z",
     "iopub.status.idle": "2022-11-02T06:38:46.681606Z",
     "shell.execute_reply": "2022-11-02T06:38:46.680334Z",
     "shell.execute_reply.started": "2022-11-02T06:38:44.881552Z"
    }
   },
   "outputs": [],
   "source": [
    "con = []\n",
    "for i in range(len(data)):\n",
    "    if(int((max(data[i][1])))+int(min(data[i][1]))!=0):\n",
    "        contrast = (int(np.max(data[i][1]))-int(np.min(data[i][1])))/(int(np.max(data[i][1]))+int(np.min(data[i][1])))\n",
    "        con.append(contrast)"
   ]
  },
  {
   "cell_type": "code",
   "execution_count": 8,
   "metadata": {
    "execution": {
     "iopub.execute_input": "2022-11-02T06:38:46.683658Z",
     "iopub.status.busy": "2022-11-02T06:38:46.683276Z",
     "iopub.status.idle": "2022-11-02T06:38:47.053253Z",
     "shell.execute_reply": "2022-11-02T06:38:47.051652Z",
     "shell.execute_reply.started": "2022-11-02T06:38:46.683624Z"
    }
   },
   "outputs": [],
   "source": [
    "from scipy.stats import entropy\n",
    "E = []\n",
    "for i in range(len(data)):\n",
    "    e = entropy(data[i][1], base=2)\n",
    "    E.append(e)"
   ]
  },
  {
   "cell_type": "code",
   "execution_count": 9,
   "metadata": {
    "execution": {
     "iopub.execute_input": "2022-11-02T06:38:47.059775Z",
     "iopub.status.busy": "2022-11-02T06:38:47.058942Z",
     "iopub.status.idle": "2022-11-02T06:38:47.311188Z",
     "shell.execute_reply": "2022-11-02T06:38:47.309605Z",
     "shell.execute_reply.started": "2022-11-02T06:38:47.059691Z"
    }
   },
   "outputs": [
    {
     "name": "stdout",
     "output_type": "stream",
     "text": [
      "                    image name Mean variance  contrast    entropy labels\n",
      "0            IM-0115-0001.jpeg   61     8481       1.0  11.078065      0\n",
      "1            IM-0117-0001.jpeg   48     6346       1.0  10.969443      0\n",
      "2            IM-0119-0001.jpeg   58     8819       1.0  10.965738      0\n",
      "3            IM-0122-0001.jpeg   63     9086       1.0  11.055032      0\n",
      "4            IM-0125-0001.jpeg   50     7356       1.0  10.925638      0\n",
      "...                        ...  ...      ...       ...        ...    ...\n",
      "5211   person99_virus_183.jpeg   55     7583       0.0  11.009311      1\n",
      "5212  person9_bacteria_38.jpeg   63     7697       0.0  11.134955      1\n",
      "5213  person9_bacteria_39.jpeg   61     6911       0.0  11.153747      1\n",
      "5214  person9_bacteria_40.jpeg   69     8324       0.0  11.168676      1\n",
      "5215  person9_bacteria_41.jpeg   55     5886       0.0  11.135897      1\n",
      "\n",
      "[5216 rows x 6 columns]\n"
     ]
    }
   ],
   "source": [
    "cols = [im,mean_values,var,con,E,labels]\n",
    "df = pd.DataFrame(cols)\n",
    "df1 = df.transpose()\n",
    "df1.columns = ['image name','Mean', 'variance', 'contrast','entropy','labels']\n",
    "df1['contrast'] = df1['contrast'].fillna(0)\n",
    "print(df1)\n",
    "file_name = open(\"im.csv\",'w')\n",
    "df1.to_csv('im.csv')"
   ]
  },
  {
   "cell_type": "markdown",
   "metadata": {},
   "source": [
    "**TEST DATA FEATURE EXTRACTION**"
   ]
  },
  {
   "cell_type": "code",
   "execution_count": 10,
   "metadata": {
    "execution": {
     "iopub.execute_input": "2022-11-02T06:38:47.313256Z",
     "iopub.status.busy": "2022-11-02T06:38:47.312827Z",
     "iopub.status.idle": "2022-11-02T06:38:47.320005Z",
     "shell.execute_reply": "2022-11-02T06:38:47.318377Z",
     "shell.execute_reply.started": "2022-11-02T06:38:47.313153Z"
    }
   },
   "outputs": [],
   "source": [
    "dir2 = 'chest_xray/test'"
   ]
  },
  {
   "cell_type": "code",
   "execution_count": 11,
   "metadata": {
    "execution": {
     "iopub.execute_input": "2022-11-02T06:38:47.321958Z",
     "iopub.status.busy": "2022-11-02T06:38:47.321569Z",
     "iopub.status.idle": "2022-11-02T06:38:56.793206Z",
     "shell.execute_reply": "2022-11-02T06:38:56.792330Z",
     "shell.execute_reply.started": "2022-11-02T06:38:47.321925Z"
    }
   },
   "outputs": [],
   "source": [
    "categories = ['NORMAL','PNEUMONIA']\n",
    "tdata = []\n",
    "for c in categories:\n",
    "    path = os.path.join(dir2,c)\n",
    "    label = categories.index(c)\n",
    "    for img in os.listdir(path):\n",
    "        imgpath = os.path.join(path,img)\n",
    "        l_img = cv2.imread(imgpath,0)\n",
    "        try:\n",
    "            l_img = cv2.resize(l_img,(50,50))\n",
    "            image = np.array(l_img).flatten()\n",
    "            tdata.append([img,image,label])\n",
    "        except:\n",
    "            pass\n",
    "im2 = []\n",
    "for i in range(len(tdata)):\n",
    "    im2.append(tdata[i][0])"
   ]
  },
  {
   "cell_type": "code",
   "execution_count": 12,
   "metadata": {
    "execution": {
     "iopub.execute_input": "2022-11-02T06:38:56.795867Z",
     "iopub.status.busy": "2022-11-02T06:38:56.794983Z",
     "iopub.status.idle": "2022-11-02T06:38:57.044179Z",
     "shell.execute_reply": "2022-11-02T06:38:57.043204Z",
     "shell.execute_reply.started": "2022-11-02T06:38:56.795818Z"
    }
   },
   "outputs": [],
   "source": [
    "mean_values2=[]\n",
    "for i in range(len(tdata)):\n",
    "    mean = sum(tdata[i][1])//len(tdata)\n",
    "    mean_values2.append(mean)"
   ]
  },
  {
   "cell_type": "code",
   "execution_count": 13,
   "metadata": {
    "execution": {
     "iopub.execute_input": "2022-11-02T06:38:57.047091Z",
     "iopub.status.busy": "2022-11-02T06:38:57.046166Z",
     "iopub.status.idle": "2022-11-02T06:39:07.440818Z",
     "shell.execute_reply": "2022-11-02T06:39:07.439732Z",
     "shell.execute_reply.started": "2022-11-02T06:38:57.047042Z"
    }
   },
   "outputs": [],
   "source": [
    "import statistics\n",
    "var1 = []\n",
    "for i in range(len(tdata)):\n",
    "    mean = sum(tdata[i][1])//len(tdata)\n",
    "    v = statistics.variance(tdata[i][1],xbar = mean)\n",
    "    var1.append(v)"
   ]
  },
  {
   "cell_type": "code",
   "execution_count": 29,
   "metadata": {
    "execution": {
     "iopub.execute_input": "2022-11-02T06:39:07.442761Z",
     "iopub.status.busy": "2022-11-02T06:39:07.442298Z",
     "iopub.status.idle": "2022-11-02T06:39:07.667860Z",
     "shell.execute_reply": "2022-11-02T06:39:07.666367Z",
     "shell.execute_reply.started": "2022-11-02T06:39:07.442716Z"
    }
   },
   "outputs": [],
   "source": [
    "con1 = []\n",
    "for i in range(len(tdata)):\n",
    "    if(int((max(tdata[i][1]))+int(min(tdata[i][1])))!=0):\n",
    "        contrast = (int(np.max(tdata[i][1]))-int(np.min(tdata[i][1])))/(int(np.max(tdata[i][1]))+int(np.min(tdata[i][1])))\n",
    "        con1.append(contrast)"
   ]
  },
  {
   "cell_type": "code",
   "execution_count": 15,
   "metadata": {
    "execution": {
     "iopub.execute_input": "2022-11-02T06:39:07.670769Z",
     "iopub.status.busy": "2022-11-02T06:39:07.669992Z",
     "iopub.status.idle": "2022-11-02T06:39:07.719788Z",
     "shell.execute_reply": "2022-11-02T06:39:07.718412Z",
     "shell.execute_reply.started": "2022-11-02T06:39:07.670727Z"
    }
   },
   "outputs": [],
   "source": [
    "from scipy.stats import entropy\n",
    "E1 = []\n",
    "for i in range(len(tdata)):\n",
    "    e = entropy(tdata[i][1], base=2)\n",
    "    E1.append(e)"
   ]
  },
  {
   "cell_type": "code",
   "execution_count": 16,
   "metadata": {
    "execution": {
     "iopub.execute_input": "2022-11-02T06:39:07.721760Z",
     "iopub.status.busy": "2022-11-02T06:39:07.721359Z",
     "iopub.status.idle": "2022-11-02T06:39:07.727934Z",
     "shell.execute_reply": "2022-11-02T06:39:07.726596Z",
     "shell.execute_reply.started": "2022-11-02T06:39:07.721727Z"
    }
   },
   "outputs": [],
   "source": [
    "labels = []\n",
    "for i in range(len(tdata)):\n",
    "    labels.append(tdata[i][2])"
   ]
  },
  {
   "cell_type": "code",
   "execution_count": 17,
   "metadata": {
    "execution": {
     "iopub.execute_input": "2022-11-02T06:39:07.730766Z",
     "iopub.status.busy": "2022-11-02T06:39:07.729605Z",
     "iopub.status.idle": "2022-11-02T06:39:07.788136Z",
     "shell.execute_reply": "2022-11-02T06:39:07.786751Z",
     "shell.execute_reply.started": "2022-11-02T06:39:07.730718Z"
    }
   },
   "outputs": [
    {
     "name": "stdout",
     "output_type": "stream",
     "text": [
      "6\n",
      "                     image name Mean variance   contrast    entropy labels\n",
      "0             IM-0001-0001.jpeg  523   157163   0.912698  11.129232      0\n",
      "1             IM-0003-0001.jpeg  571   187320  18.230770  11.134711      0\n",
      "2             IM-0005-0001.jpeg  545   170223  48.200001  11.150993      0\n",
      "3             IM-0006-0001.jpeg  596   201831   0.991342  11.225787      0\n",
      "4             IM-0007-0001.jpeg  551   173834  20.000000  11.164621      0\n",
      "..                          ...  ...      ...        ...        ...    ...\n",
      "619  person96_bacteria_465.jpeg  501   145343   0.000000  11.060364      1\n",
      "620  person96_bacteria_466.jpeg  499   143599   0.000000  11.095107      1\n",
      "621  person97_bacteria_468.jpeg  559   179596   0.000000   11.10576      1\n",
      "622  person99_bacteria_473.jpeg  526   158087   0.000000  11.165797      1\n",
      "623  person99_bacteria_474.jpeg  502   145803   0.000000  11.035013      1\n",
      "\n",
      "[624 rows x 6 columns]\n"
     ]
    }
   ],
   "source": [
    "cols = [im2,mean_values2,var1,con1,E1,labels]\n",
    "print(len(cols))\n",
    "df = pd.DataFrame(cols)\n",
    "df1 = df.transpose()\n",
    "df1.columns = ['image name','Mean', 'variance', 'contrast','entropy','labels']\n",
    "df1['contrast'] = df1['contrast'].fillna(0)\n",
    "print(df1)\n",
    "file_name = open(\"im2.csv\",'w')\n",
    "df1.to_csv('im2.csv')"
   ]
  },
  {
   "cell_type": "markdown",
   "metadata": {},
   "source": [
    "**MACHINE LEARNING CLASSIFIERS**"
   ]
  },
  {
   "cell_type": "code",
   "execution_count": 18,
   "metadata": {
    "execution": {
     "iopub.execute_input": "2022-11-02T06:39:07.790567Z",
     "iopub.status.busy": "2022-11-02T06:39:07.790077Z",
     "iopub.status.idle": "2022-11-02T06:39:07.822172Z",
     "shell.execute_reply": "2022-11-02T06:39:07.820856Z",
     "shell.execute_reply.started": "2022-11-02T06:39:07.790528Z"
    }
   },
   "outputs": [],
   "source": [
    "Train = pd.read_csv('im.csv')"
   ]
  },
  {
   "cell_type": "code",
   "execution_count": 19,
   "metadata": {
    "execution": {
     "iopub.execute_input": "2022-11-02T07:25:18.108814Z",
     "iopub.status.busy": "2022-11-02T07:25:18.108377Z",
     "iopub.status.idle": "2022-11-02T07:25:18.118204Z",
     "shell.execute_reply": "2022-11-02T07:25:18.116874Z",
     "shell.execute_reply.started": "2022-11-02T07:25:18.108779Z"
    }
   },
   "outputs": [],
   "source": [
    "X_tr = Train[['Mean','variance','contrast','entropy']]\n",
    "arr = X_tr.to_numpy()\n",
    "Y_tr = Train[['labels']]\n",
    "arr = Y_tr.to_numpy()"
   ]
  },
  {
   "cell_type": "code",
   "execution_count": 20,
   "metadata": {
    "execution": {
     "iopub.execute_input": "2022-11-02T06:39:07.840203Z",
     "iopub.status.busy": "2022-11-02T06:39:07.838098Z",
     "iopub.status.idle": "2022-11-02T06:39:07.858967Z",
     "shell.execute_reply": "2022-11-02T06:39:07.857585Z",
     "shell.execute_reply.started": "2022-11-02T06:39:07.840161Z"
    }
   },
   "outputs": [],
   "source": [
    "Test = pd.read_csv('im2.csv')"
   ]
  },
  {
   "cell_type": "code",
   "execution_count": 21,
   "metadata": {
    "execution": {
     "iopub.execute_input": "2022-11-02T07:25:23.758336Z",
     "iopub.status.busy": "2022-11-02T07:25:23.757866Z",
     "iopub.status.idle": "2022-11-02T07:25:23.767817Z",
     "shell.execute_reply": "2022-11-02T07:25:23.766385Z",
     "shell.execute_reply.started": "2022-11-02T07:25:23.758296Z"
    }
   },
   "outputs": [],
   "source": [
    "X_te = Test[['Mean','variance','contrast','entropy']]\n",
    "arr = X_te.to_numpy()\n",
    "Y_te = Test[['labels']]\n",
    "arr = Y_te.to_numpy()"
   ]
  },
  {
   "cell_type": "code",
   "execution_count": 39,
   "metadata": {
    "execution": {
     "iopub.execute_input": "2022-11-02T07:42:17.283366Z",
     "iopub.status.busy": "2022-11-02T07:42:17.282911Z",
     "iopub.status.idle": "2022-11-02T07:42:17.393053Z",
     "shell.execute_reply": "2022-11-02T07:42:17.391626Z",
     "shell.execute_reply.started": "2022-11-02T07:42:17.283327Z"
    }
   },
   "outputs": [
    {
     "name": "stdout",
     "output_type": "stream",
     "text": [
      "              precision    recall  f1-score   support\n",
      "\n",
      "           0       0.00      0.00      0.00         0\n",
      "           1       1.00      0.62      0.77       624\n",
      "\n",
      "    accuracy                           0.62       624\n",
      "   macro avg       0.50      0.31      0.38       624\n",
      "weighted avg       1.00      0.62      0.77       624\n",
      "\n"
     ]
    }
   ],
   "source": [
    "import warnings\n",
    "warnings.filterwarnings('ignore')\n",
    "classifiers = {}\n",
    "model = KNN(500)\n",
    "model.fit(X_tr,Y_tr.values.ravel())\n",
    "pred = model.predict(X_te)\n",
    "print(cr(pred,Y_te))\n",
    "report = cr(pred,Y_te,output_dict = True)\n",
    "df = pd.DataFrame(report).transpose()\n",
    "classifiers[\"K-Nearest Neigbour\"] = df.iloc[2][2]"
   ]
  },
  {
   "cell_type": "code",
   "execution_count": 40,
   "metadata": {
    "execution": {
     "iopub.execute_input": "2022-11-02T07:41:53.036134Z",
     "iopub.status.busy": "2022-11-02T07:41:53.035658Z",
     "iopub.status.idle": "2022-11-02T07:41:53.916695Z",
     "shell.execute_reply": "2022-11-02T07:41:53.915421Z",
     "shell.execute_reply.started": "2022-11-02T07:41:53.036096Z"
    }
   },
   "outputs": [
    {
     "name": "stdout",
     "output_type": "stream",
     "text": [
      "              precision    recall  f1-score   support\n",
      "\n",
      "           0       0.03      0.27      0.06        30\n",
      "           1       0.94      0.62      0.75       594\n",
      "\n",
      "    accuracy                           0.60       624\n",
      "   macro avg       0.49      0.44      0.40       624\n",
      "weighted avg       0.90      0.60      0.71       624\n",
      "\n"
     ]
    }
   ],
   "source": [
    "model = RFC()\n",
    "model.fit(X_tr,Y_tr.values.ravel())\n",
    "pred = model.predict(X_te)\n",
    "print(cr(pred, Y_te))\n",
    "report = cr(pred,Y_te,output_dict = True)\n",
    "df = pd.DataFrame(report).transpose()\n",
    "classifiers[\"Random Forest\"] = df.iloc[2][2]"
   ]
  },
  {
   "cell_type": "code",
   "execution_count": 43,
   "metadata": {
    "execution": {
     "iopub.execute_input": "2022-11-02T07:41:22.438923Z",
     "iopub.status.busy": "2022-11-02T07:41:22.438537Z",
     "iopub.status.idle": "2022-11-02T07:41:22.482179Z",
     "shell.execute_reply": "2022-11-02T07:41:22.480625Z",
     "shell.execute_reply.started": "2022-11-02T07:41:22.438893Z"
    }
   },
   "outputs": [
    {
     "name": "stdout",
     "output_type": "stream",
     "text": [
      "              precision    recall  f1-score   support\n",
      "\n",
      "           0       0.05      0.26      0.08        42\n",
      "           1       0.92      0.62      0.74       582\n",
      "\n",
      "    accuracy                           0.59       624\n",
      "   macro avg       0.48      0.44      0.41       624\n",
      "weighted avg       0.86      0.59      0.69       624\n",
      "\n",
      "{'K-Nearest Neigbour': 0.5897435897435898, 'Random Forest': 0.6025641025641025, 'Gaussian Naive Bayes': 0.625, 'Decision Tree classifier': 0.592948717948718}\n"
     ]
    }
   ],
   "source": [
    "model = DecisionTreeClassifier()\n",
    "model.fit(X_tr,Y_tr)\n",
    "pred = model.predict(X_te)\n",
    "print(cr(pred, Y_te))\n",
    "report = cr(pred,Y_te,output_dict = True)\n",
    "df = pd.DataFrame(report).transpose()\n",
    "classifiers[\"Decision Tree classifier\"] = df.iloc[2][2]"
   ]
  },
  {
   "cell_type": "code",
   "execution_count": 44,
   "metadata": {
    "execution": {
     "iopub.execute_input": "2022-11-02T07:42:55.624322Z",
     "iopub.status.busy": "2022-11-02T07:42:55.623888Z",
     "iopub.status.idle": "2022-11-02T07:42:55.650792Z",
     "shell.execute_reply": "2022-11-02T07:42:55.649410Z",
     "shell.execute_reply.started": "2022-11-02T07:42:55.624284Z"
    }
   },
   "outputs": [
    {
     "name": "stdout",
     "output_type": "stream",
     "text": [
      "              precision    recall  f1-score   support\n",
      "\n",
      "           0       0.00      0.00      0.00         0\n",
      "           1       1.00      0.62      0.77       624\n",
      "\n",
      "    accuracy                           0.62       624\n",
      "   macro avg       0.50      0.31      0.38       624\n",
      "weighted avg       1.00      0.62      0.77       624\n",
      "\n"
     ]
    }
   ],
   "source": [
    "import warnings\n",
    "warnings.filterwarnings('ignore')\n",
    "model = GaussianNB()\n",
    "model.fit(X_tr,Y_tr.values.ravel())\n",
    "pred = model.predict(X_te)\n",
    "print(cr(pred, Y_te))\n",
    "report = cr(pred,Y_te,output_dict = True)\n",
    "df = pd.DataFrame(report).transpose()\n",
    "classifiers[\"Gaussian Naive Bayes\"] = df.iloc[2][2]"
   ]
  },
  {
   "cell_type": "code",
   "execution_count": 57,
   "metadata": {
    "execution": {
     "iopub.execute_input": "2022-11-02T07:45:38.913993Z",
     "iopub.status.busy": "2022-11-02T07:45:38.913555Z",
     "iopub.status.idle": "2022-11-02T07:45:39.098563Z",
     "shell.execute_reply": "2022-11-02T07:45:39.097315Z",
     "shell.execute_reply.started": "2022-11-02T07:45:38.913955Z"
    }
   },
   "outputs": [
    {
     "data": {
      "image/png": "[encoded data removed]",
      "text/plain": [
       "<Figure size 720x360 with 1 Axes>"
      ]
     },
     "metadata": {
      "needs_background": "light"
     },
     "output_type": "display_data"
    }
   ],
   "source": [
    "courses = list(classifiers.keys())\n",
    "values = list(classifiers.values())\n",
    "\n",
    "percentages = [i*100 for i in values]\n",
    "fig = plt.figure(figsize = (10, 5))\n",
    " \n",
    "# creating the bar plot\n",
    "plt.bar(courses, percentages, color ='blue',\n",
    "        width = 0.4)\n",
    "plt.show() "
   ]
  }
 ],
 "metadata": {
  "kernelspec": {
   "display_name": "Python 3 (ipykernel)",
   "language": "python",
   "name": "python3"
  },
  "language_info": {
   "codemirror_mode": {
    "name": "ipython",
    "version": 3
   },
   "file_extension": ".py",
   "mimetype": "text/x-python",
   "name": "python",
   "nbconvert_exporter": "python",
   "pygments_lexer": "ipython3",
   "version": "3.9.12"
  }
 },
 "nbformat": 4,
 "nbformat_minor": 4
}
